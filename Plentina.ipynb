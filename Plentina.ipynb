{
 "cells": [
  {
   "cell_type": "markdown",
   "metadata": {
    "id": "gnOvvbHBvfyt"
   },
   "source": [
    "# Requirement "
   ]
  },
  {
   "cell_type": "code",
   "execution_count": 1,
   "metadata": {
    "id": "uipi4DNvWwhB"
   },
   "outputs": [],
   "source": [
    "import pandas as pd\n",
    "import numpy as np\n"
   ]
  },
  {
   "cell_type": "markdown",
   "metadata": {
    "id": "WwN25oelW2iY"
   },
   "source": [
    "# Reading DataSet "
   ]
  },
  {
   "cell_type": "code",
   "execution_count": 2,
   "metadata": {
    "id": "e8e1yRRpW-wK"
   },
   "outputs": [],
   "source": [
    "df = pd.read_csv(\"transactions_train.csv\")"
   ]
  },
  {
   "cell_type": "code",
   "execution_count": 3,
   "metadata": {
    "colab": {
     "base_uri": "https://localhost:8080/",
     "height": 202
    },
    "id": "so4iKoV0asJC",
    "outputId": "7d898681-fa95-4adc-d75d-6088372f37c3"
   },
   "outputs": [
    {
     "data": {
      "text/html": [
       "<div>\n",
       "<style scoped>\n",
       "    .dataframe tbody tr th:only-of-type {\n",
       "        vertical-align: middle;\n",
       "    }\n",
       "\n",
       "    .dataframe tbody tr th {\n",
       "        vertical-align: top;\n",
       "    }\n",
       "\n",
       "    .dataframe thead th {\n",
       "        text-align: right;\n",
       "    }\n",
       "</style>\n",
       "<table border=\"1\" class=\"dataframe\">\n",
       "  <thead>\n",
       "    <tr style=\"text-align: right;\">\n",
       "      <th></th>\n",
       "      <th>step</th>\n",
       "      <th>type</th>\n",
       "      <th>amount</th>\n",
       "      <th>nameOrig</th>\n",
       "      <th>oldbalanceOrig</th>\n",
       "      <th>newbalanceOrig</th>\n",
       "      <th>nameDest</th>\n",
       "      <th>oldbalanceDest</th>\n",
       "      <th>newbalanceDest</th>\n",
       "      <th>isFraud</th>\n",
       "    </tr>\n",
       "  </thead>\n",
       "  <tbody>\n",
       "    <tr>\n",
       "      <th>0</th>\n",
       "      <td>1</td>\n",
       "      <td>PAYMENT</td>\n",
       "      <td>9839.64</td>\n",
       "      <td>C1231006815</td>\n",
       "      <td>170136.0</td>\n",
       "      <td>160296.36</td>\n",
       "      <td>M1979787155</td>\n",
       "      <td>0.0</td>\n",
       "      <td>0.0</td>\n",
       "      <td>0</td>\n",
       "    </tr>\n",
       "    <tr>\n",
       "      <th>1</th>\n",
       "      <td>1</td>\n",
       "      <td>PAYMENT</td>\n",
       "      <td>1864.28</td>\n",
       "      <td>C1666544295</td>\n",
       "      <td>21249.0</td>\n",
       "      <td>19384.72</td>\n",
       "      <td>M2044282225</td>\n",
       "      <td>0.0</td>\n",
       "      <td>0.0</td>\n",
       "      <td>0</td>\n",
       "    </tr>\n",
       "    <tr>\n",
       "      <th>2</th>\n",
       "      <td>1</td>\n",
       "      <td>TRANSFER</td>\n",
       "      <td>181.00</td>\n",
       "      <td>C1305486145</td>\n",
       "      <td>181.0</td>\n",
       "      <td>0.00</td>\n",
       "      <td>C553264065</td>\n",
       "      <td>0.0</td>\n",
       "      <td>0.0</td>\n",
       "      <td>1</td>\n",
       "    </tr>\n",
       "    <tr>\n",
       "      <th>3</th>\n",
       "      <td>1</td>\n",
       "      <td>CASH_OUT</td>\n",
       "      <td>181.00</td>\n",
       "      <td>C840083671</td>\n",
       "      <td>181.0</td>\n",
       "      <td>0.00</td>\n",
       "      <td>C38997010</td>\n",
       "      <td>21182.0</td>\n",
       "      <td>0.0</td>\n",
       "      <td>1</td>\n",
       "    </tr>\n",
       "    <tr>\n",
       "      <th>4</th>\n",
       "      <td>1</td>\n",
       "      <td>PAYMENT</td>\n",
       "      <td>11668.14</td>\n",
       "      <td>C2048537720</td>\n",
       "      <td>41554.0</td>\n",
       "      <td>29885.86</td>\n",
       "      <td>M1230701703</td>\n",
       "      <td>0.0</td>\n",
       "      <td>0.0</td>\n",
       "      <td>0</td>\n",
       "    </tr>\n",
       "  </tbody>\n",
       "</table>\n",
       "</div>"
      ],
      "text/plain": [
       "   step      type    amount     nameOrig  oldbalanceOrig  newbalanceOrig  \\\n",
       "0     1   PAYMENT   9839.64  C1231006815        170136.0       160296.36   \n",
       "1     1   PAYMENT   1864.28  C1666544295         21249.0        19384.72   \n",
       "2     1  TRANSFER    181.00  C1305486145           181.0            0.00   \n",
       "3     1  CASH_OUT    181.00   C840083671           181.0            0.00   \n",
       "4     1   PAYMENT  11668.14  C2048537720         41554.0        29885.86   \n",
       "\n",
       "      nameDest  oldbalanceDest  newbalanceDest  isFraud  \n",
       "0  M1979787155             0.0             0.0        0  \n",
       "1  M2044282225             0.0             0.0        0  \n",
       "2   C553264065             0.0             0.0        1  \n",
       "3    C38997010         21182.0             0.0        1  \n",
       "4  M1230701703             0.0             0.0        0  "
      ]
     },
     "execution_count": 3,
     "metadata": {},
     "output_type": "execute_result"
    }
   ],
   "source": [
    "df.head()"
   ]
  },
  {
   "cell_type": "markdown",
   "metadata": {
    "id": "H0mSM5kJZwFp"
   },
   "source": [
    "## getting informations about dataset "
   ]
  },
  {
   "cell_type": "code",
   "execution_count": 4,
   "metadata": {
    "colab": {
     "base_uri": "https://localhost:8080/"
    },
    "id": "DsYId5UibSUk",
    "outputId": "319e5760-948b-4c59-d4c7-fd079f5190fc"
   },
   "outputs": [
    {
     "name": "stdout",
     "output_type": "stream",
     "text": [
      "(6351193, 10)\n"
     ]
    }
   ],
   "source": [
    "SHAPE = df.shape\n",
    "print(SHAPE)"
   ]
  },
  {
   "cell_type": "code",
   "execution_count": 5,
   "metadata": {
    "colab": {
     "base_uri": "https://localhost:8080/",
     "height": 294
    },
    "id": "wY0FPAytXd-b",
    "outputId": "5400e420-4aa0-46dd-cf11-007800429c41"
   },
   "outputs": [
    {
     "data": {
      "text/html": [
       "<div>\n",
       "<style scoped>\n",
       "    .dataframe tbody tr th:only-of-type {\n",
       "        vertical-align: middle;\n",
       "    }\n",
       "\n",
       "    .dataframe tbody tr th {\n",
       "        vertical-align: top;\n",
       "    }\n",
       "\n",
       "    .dataframe thead th {\n",
       "        text-align: right;\n",
       "    }\n",
       "</style>\n",
       "<table border=\"1\" class=\"dataframe\">\n",
       "  <thead>\n",
       "    <tr style=\"text-align: right;\">\n",
       "      <th></th>\n",
       "      <th>step</th>\n",
       "      <th>amount</th>\n",
       "      <th>oldbalanceOrig</th>\n",
       "      <th>newbalanceOrig</th>\n",
       "      <th>oldbalanceDest</th>\n",
       "      <th>newbalanceDest</th>\n",
       "      <th>isFraud</th>\n",
       "    </tr>\n",
       "  </thead>\n",
       "  <tbody>\n",
       "    <tr>\n",
       "      <th>count</th>\n",
       "      <td>6.351193e+06</td>\n",
       "      <td>6.351193e+06</td>\n",
       "      <td>6.351193e+06</td>\n",
       "      <td>6.351193e+06</td>\n",
       "      <td>6.351193e+06</td>\n",
       "      <td>6.351193e+06</td>\n",
       "      <td>6.351193e+06</td>\n",
       "    </tr>\n",
       "    <tr>\n",
       "      <th>mean</th>\n",
       "      <td>2.425553e+02</td>\n",
       "      <td>1.798155e+05</td>\n",
       "      <td>8.347957e+05</td>\n",
       "      <td>8.561696e+05</td>\n",
       "      <td>1.101043e+06</td>\n",
       "      <td>1.225372e+06</td>\n",
       "      <td>1.215047e-03</td>\n",
       "    </tr>\n",
       "    <tr>\n",
       "      <th>std</th>\n",
       "      <td>1.410676e+02</td>\n",
       "      <td>6.036310e+05</td>\n",
       "      <td>2.889959e+06</td>\n",
       "      <td>2.926073e+06</td>\n",
       "      <td>3.398924e+06</td>\n",
       "      <td>3.674293e+06</td>\n",
       "      <td>3.483635e-02</td>\n",
       "    </tr>\n",
       "    <tr>\n",
       "      <th>min</th>\n",
       "      <td>1.000000e+00</td>\n",
       "      <td>0.000000e+00</td>\n",
       "      <td>0.000000e+00</td>\n",
       "      <td>0.000000e+00</td>\n",
       "      <td>0.000000e+00</td>\n",
       "      <td>0.000000e+00</td>\n",
       "      <td>0.000000e+00</td>\n",
       "    </tr>\n",
       "    <tr>\n",
       "      <th>25%</th>\n",
       "      <td>1.550000e+02</td>\n",
       "      <td>1.338829e+04</td>\n",
       "      <td>0.000000e+00</td>\n",
       "      <td>0.000000e+00</td>\n",
       "      <td>0.000000e+00</td>\n",
       "      <td>0.000000e+00</td>\n",
       "      <td>0.000000e+00</td>\n",
       "    </tr>\n",
       "    <tr>\n",
       "      <th>50%</th>\n",
       "      <td>2.380000e+02</td>\n",
       "      <td>7.486483e+04</td>\n",
       "      <td>1.415300e+04</td>\n",
       "      <td>0.000000e+00</td>\n",
       "      <td>1.330865e+05</td>\n",
       "      <td>2.149190e+05</td>\n",
       "      <td>0.000000e+00</td>\n",
       "    </tr>\n",
       "    <tr>\n",
       "      <th>75%</th>\n",
       "      <td>3.340000e+02</td>\n",
       "      <td>2.087152e+05</td>\n",
       "      <td>1.073460e+05</td>\n",
       "      <td>1.443651e+05</td>\n",
       "      <td>9.438661e+05</td>\n",
       "      <td>1.112791e+06</td>\n",
       "      <td>0.000000e+00</td>\n",
       "    </tr>\n",
       "    <tr>\n",
       "      <th>max</th>\n",
       "      <td>6.990000e+02</td>\n",
       "      <td>9.244552e+07</td>\n",
       "      <td>5.958504e+07</td>\n",
       "      <td>4.958504e+07</td>\n",
       "      <td>3.560159e+08</td>\n",
       "      <td>3.561793e+08</td>\n",
       "      <td>1.000000e+00</td>\n",
       "    </tr>\n",
       "  </tbody>\n",
       "</table>\n",
       "</div>"
      ],
      "text/plain": [
       "               step        amount  oldbalanceOrig  newbalanceOrig  \\\n",
       "count  6.351193e+06  6.351193e+06    6.351193e+06    6.351193e+06   \n",
       "mean   2.425553e+02  1.798155e+05    8.347957e+05    8.561696e+05   \n",
       "std    1.410676e+02  6.036310e+05    2.889959e+06    2.926073e+06   \n",
       "min    1.000000e+00  0.000000e+00    0.000000e+00    0.000000e+00   \n",
       "25%    1.550000e+02  1.338829e+04    0.000000e+00    0.000000e+00   \n",
       "50%    2.380000e+02  7.486483e+04    1.415300e+04    0.000000e+00   \n",
       "75%    3.340000e+02  2.087152e+05    1.073460e+05    1.443651e+05   \n",
       "max    6.990000e+02  9.244552e+07    5.958504e+07    4.958504e+07   \n",
       "\n",
       "       oldbalanceDest  newbalanceDest       isFraud  \n",
       "count    6.351193e+06    6.351193e+06  6.351193e+06  \n",
       "mean     1.101043e+06    1.225372e+06  1.215047e-03  \n",
       "std      3.398924e+06    3.674293e+06  3.483635e-02  \n",
       "min      0.000000e+00    0.000000e+00  0.000000e+00  \n",
       "25%      0.000000e+00    0.000000e+00  0.000000e+00  \n",
       "50%      1.330865e+05    2.149190e+05  0.000000e+00  \n",
       "75%      9.438661e+05    1.112791e+06  0.000000e+00  \n",
       "max      3.560159e+08    3.561793e+08  1.000000e+00  "
      ]
     },
     "execution_count": 5,
     "metadata": {},
     "output_type": "execute_result"
    }
   ],
   "source": [
    "df.describe()"
   ]
  },
  {
   "cell_type": "code",
   "execution_count": 6,
   "metadata": {
    "colab": {
     "base_uri": "https://localhost:8080/"
    },
    "id": "DubXWj5QXjDw",
    "outputId": "a46a5781-8e94-4cf9-a60a-c792b3aeb644"
   },
   "outputs": [
    {
     "name": "stdout",
     "output_type": "stream",
     "text": [
      "<class 'pandas.core.frame.DataFrame'>\n",
      "RangeIndex: 6351193 entries, 0 to 6351192\n",
      "Data columns (total 10 columns):\n",
      " #   Column          Dtype  \n",
      "---  ------          -----  \n",
      " 0   step            int64  \n",
      " 1   type            object \n",
      " 2   amount          float64\n",
      " 3   nameOrig        object \n",
      " 4   oldbalanceOrig  float64\n",
      " 5   newbalanceOrig  float64\n",
      " 6   nameDest        object \n",
      " 7   oldbalanceDest  float64\n",
      " 8   newbalanceDest  float64\n",
      " 9   isFraud         int64  \n",
      "dtypes: float64(5), int64(2), object(3)\n",
      "memory usage: 484.6+ MB\n"
     ]
    }
   ],
   "source": [
    "df.info()"
   ]
  },
  {
   "cell_type": "code",
   "execution_count": 7,
   "metadata": {
    "colab": {
     "base_uri": "https://localhost:8080/"
    },
    "id": "G-XBealKXoMN",
    "outputId": "b7f4b061-7414-4b44-8c3f-bc4b6d045110"
   },
   "outputs": [
    {
     "name": "stdout",
     "output_type": "stream",
     "text": [
      "[  1   2   3   4   5   6   7   8   9  10  11  12  13  14  15  16  17  18\n",
      "  19  20  21  22  23  24  25  26  27  28  29  30  31  32  33  34  35  36\n",
      "  37  38  39  40  41  42  43  44  45  46  47  48  49  50  51  52  53  54\n",
      "  55  56  57  58  59  60  61  62  63  64  65  66  67  68  69  70  71  72\n",
      "  73  74  75  76  77  78  79  80  81  82  83  84  85  86  87  88  89  90\n",
      "  91  92  93  94  95  96  97  98  99 100 101 102 103 104 105 106 107 108\n",
      " 109 110 111 112 113 114 115 116 117 118 119 120 121 122 123 124 125 126\n",
      " 127 128 129 130 131 132 133 134 135 136 137 138 139 140 141 142 143 144\n",
      " 145 146 147 148 149 150 151 152 153 154 155 156 157 158 159 160 161 162\n",
      " 163 164 165 166 167 168 169 170 171 172 173 174 175 176 177 178 179 180\n",
      " 181 182 183 184 185 186 187 188 189 190 191 192 193 194 195 196 197 198\n",
      " 199 200 201 202 203 204 205 206 207 208 209 210 211 212 213 214 215 216\n",
      " 217 218 219 220 221 222 223 224 225 226 227 228 229 230 231 232 233 234\n",
      " 235 236 237 238 239 240 241 242 243 244 245 246 247 248 249 250 251 252\n",
      " 253 254 255 256 257 258 259 260 261 262 263 264 265 266 267 268 269 270\n",
      " 271 272 273 274 275 276 277 278 279 280 281 282 283 284 285 286 287 288\n",
      " 289 290 291 292 293 294 295 296 297 298 299 300 301 302 303 304 305 306\n",
      " 307 308 309 310 311 312 313 314 315 316 317 318 319 320 321 322 323 324\n",
      " 325 326 327 328 329 330 331 332 333 334 335 336 337 338 339 340 341 342\n",
      " 343 344 345 346 347 348 349 350 351 352 353 354 355 356 357 358 359 360\n",
      " 361 362 363 364 365 366 367 368 369 370 371 372 373 374 375 376 377 378\n",
      " 379 380 381 382 383 384 385 386 387 388 389 390 391 392 393 394 395 396\n",
      " 397 398 399 400 401 402 403 404 405 406 407 408 409 410 411 412 413 414\n",
      " 415 416 417 418 419 420 421 422 423 424 425 426 427 428 429 430 431 432\n",
      " 433 434 435 436 437 438 439 440 441 442 443 444 445 446 447 448 449 450\n",
      " 451 452 453 454 455 456 457 458 459 460 461 462 463 464 465 466 467 468\n",
      " 469 470 471 472 473 474 475 476 477 478 479 480 481 482 483 484 485 486\n",
      " 487 488 489 490 491 492 493 494 495 496 497 498 499 500 501 502 503 504\n",
      " 505 506 507 508 509 510 511 512 513 514 515 516 517 518 519 520 521 522\n",
      " 523 524 525 526 527 528 529 530 531 532 533 534 535 536 537 538 539 540\n",
      " 541 542 543 544 545 546 547 548 549 550 551 552 553 554 555 556 557 558\n",
      " 559 560 561 562 563 564 565 566 567 568 569 570 571 572 573 574 575 576\n",
      " 577 578 579 580 581 582 583 584 585 586 587 588 589 590 591 592 593 594\n",
      " 595 596 597 598 599 600 601 602 603 604 605 606 607 608 609 610 611 612\n",
      " 613 614 615 616 617 618 619 620 621 622 623 624 625 626 627 628 629 630\n",
      " 631 632 633 634 635 636 637 638 639 640 641 642 643 644 645 646 647 648\n",
      " 649 650 651 652 653 654 655 656 657 658 659 660 661 662 663 664 665 666\n",
      " 667 668 669 670 671 672 673 674 675 676 677 678 679 680 681 682 683 684\n",
      " 685 686 687 688 689 690 691 692 693 694 695 696 697 698 699]\n"
     ]
    }
   ],
   "source": [
    "# print(df.isFraud.unique())\n",
    "# print(df.step.unique())\n",
    "print(df.step.unique())"
   ]
  },
  {
   "cell_type": "code",
   "execution_count": 8,
   "metadata": {
    "colab": {
     "base_uri": "https://localhost:8080/"
    },
    "id": "OErvcL9AaqGc",
    "outputId": "e7f27d3e-1712-4266-9528-55bafcf65508"
   },
   "outputs": [
    {
     "data": {
      "text/plain": [
       "array([0, 1], dtype=int64)"
      ]
     },
     "execution_count": 8,
     "metadata": {},
     "output_type": "execute_result"
    }
   ],
   "source": [
    "df.isFraud.unique()"
   ]
  },
  {
   "cell_type": "code",
   "execution_count": 9,
   "metadata": {
    "colab": {
     "base_uri": "https://localhost:8080/"
    },
    "id": "oJbQcsunXwL2",
    "outputId": "e31e89b4-2393-4b9c-f44a-90a4841edc8a"
   },
   "outputs": [
    {
     "data": {
      "text/plain": [
       "step              0\n",
       "type              0\n",
       "amount            0\n",
       "nameOrig          0\n",
       "oldbalanceOrig    0\n",
       "newbalanceOrig    0\n",
       "nameDest          0\n",
       "oldbalanceDest    0\n",
       "newbalanceDest    0\n",
       "isFraud           0\n",
       "dtype: int64"
      ]
     },
     "execution_count": 9,
     "metadata": {},
     "output_type": "execute_result"
    }
   ],
   "source": [
    "df.isna().sum()"
   ]
  },
  {
   "cell_type": "markdown",
   "metadata": {
    "id": "LLWcbkUrvrcR"
   },
   "source": [
    "# EDA"
   ]
  },
  {
   "cell_type": "markdown",
   "metadata": {
    "id": "uteq4Lievvxl"
   },
   "source": [
    "## DEST ORIG"
   ]
  },
  {
   "cell_type": "code",
   "execution_count": 10,
   "metadata": {
    "colab": {
     "base_uri": "https://localhost:8080/"
    },
    "id": "lO5DmaV2YWzy",
    "outputId": "2bcc7eb3-4247-4a60-a3ba-be170e8f2ec6"
   },
   "outputs": [
    {
     "data": {
      "text/plain": [
       "7717"
      ]
     },
     "execution_count": 10,
     "metadata": {},
     "output_type": "execute_result"
    }
   ],
   "source": [
    "SHAPEF = df[\"isFraud\"].value_counts()[1]\n",
    "SHAPEF"
   ]
  },
  {
   "cell_type": "code",
   "execution_count": 11,
   "metadata": {
    "id": "uSq8rpaVamsx"
   },
   "outputs": [],
   "source": [
    "orig = set(list(df.nameOrig.unique()))\n",
    "dest = set(list(df.nameDest.unique()))\n",
    "\n"
   ]
  },
  {
   "cell_type": "code",
   "execution_count": 12,
   "metadata": {
    "colab": {
     "base_uri": "https://localhost:8080/"
    },
    "id": "kKIeEDvKecg0",
    "outputId": "41394430-ba0d-42cf-d4cd-ade2c04de35b"
   },
   "outputs": [
    {
     "data": {
      "text/plain": [
       "1758"
      ]
     },
     "execution_count": 12,
     "metadata": {},
     "output_type": "execute_result"
    }
   ],
   "source": [
    "inter = orig & dest \n",
    "len(inter)"
   ]
  },
  {
   "cell_type": "code",
   "execution_count": 13,
   "metadata": {
    "id": "44xazbdleoSv"
   },
   "outputs": [],
   "source": [
    "internp = list(inter)\n"
   ]
  },
  {
   "cell_type": "code",
   "execution_count": 14,
   "metadata": {
    "id": "vEj2rdLlfL8h"
   },
   "outputs": [],
   "source": [
    "dfa = df[df['nameOrig'].isin(internp)]"
   ]
  },
  {
   "cell_type": "code",
   "execution_count": 15,
   "metadata": {
    "colab": {
     "base_uri": "https://localhost:8080/"
    },
    "id": "xg_C-wPtgAD6",
    "outputId": "5bdd2f9d-e86b-4ea9-c5f2-49e230ed5879"
   },
   "outputs": [
    {
     "data": {
      "text/plain": [
       "array([0], dtype=int64)"
      ]
     },
     "execution_count": 15,
     "metadata": {},
     "output_type": "execute_result"
    }
   ],
   "source": [
    "dfa[\"isFraud\"].unique()"
   ]
  },
  {
   "cell_type": "markdown",
   "metadata": {
    "id": "xOMU7sh_v1XC"
   },
   "source": [
    "## Type "
   ]
  },
  {
   "cell_type": "code",
   "execution_count": 16,
   "metadata": {
    "colab": {
     "base_uri": "https://localhost:8080/"
    },
    "id": "3q2IZ7O5prT4",
    "outputId": "5f317bdb-7d73-487d-c38c-72a655774ff4"
   },
   "outputs": [
    {
     "data": {
      "text/plain": [
       "['PAYMENT', 'TRANSFER', 'CASH_OUT', 'DEBIT', 'CASH_IN']"
      ]
     },
     "execution_count": 16,
     "metadata": {},
     "output_type": "execute_result"
    }
   ],
   "source": [
    "type_ = list (df.type.unique())\n",
    "type_"
   ]
  },
  {
   "cell_type": "code",
   "execution_count": 17,
   "metadata": {
    "colab": {
     "base_uri": "https://localhost:8080/"
    },
    "id": "JNB-0UBQppzC",
    "outputId": "16180914-d72c-400f-b127-1103877ff257"
   },
   "outputs": [
    {
     "name": "stdout",
     "output_type": "stream",
     "text": [
      "0\n",
      "3849\n",
      "3868\n",
      "0\n",
      "0\n"
     ]
    }
   ],
   "source": [
    "print(len(df.loc[(df.isFraud == 1) & (df.type == 'PAYMENT')]))\n",
    "print(len(df.loc[(df.isFraud == 1) & (df.type == 'TRANSFER')]))\n",
    "print(len(df.loc[(df.isFraud == 1) & (df.type == 'CASH_OUT')]))\n",
    "print(len(df.loc[(df.isFraud == 1) & (df.type == 'DEBIT')]))\n",
    "print(len(df.loc[(df.isFraud == 1) & (df.type == 'CASH_IN')]))\n",
    "\n"
   ]
  },
  {
   "cell_type": "code",
   "execution_count": 18,
   "metadata": {
    "colab": {
     "base_uri": "https://localhost:8080/"
    },
    "id": "MhifLy8Zr1Iv",
    "outputId": "90dec681-7a87-4013-bd83-da983d2eb0e6"
   },
   "outputs": [
    {
     "data": {
      "text/plain": [
       "True"
      ]
     },
     "execution_count": 18,
     "metadata": {},
     "output_type": "execute_result"
    }
   ],
   "source": [
    "3849+3868 == SHAPEF"
   ]
  },
  {
   "cell_type": "code",
   "execution_count": 19,
   "metadata": {
    "id": "ADCdQx6lrSnO"
   },
   "outputs": [],
   "source": [
    "type_TRANSFER = df.loc[(df.isFraud == 1) & (df.type == 'TRANSFER')]\n",
    "type_CASH_OUT = df.loc[(df.isFraud == 1) & (df.type == 'CASH_OUT')]"
   ]
  },
  {
   "cell_type": "code",
   "execution_count": 20,
   "metadata": {
    "id": "8pT6JcFYlJpK"
   },
   "outputs": [],
   "source": [
    "X = df.loc[(df.type == 'TRANSFER') | (df.type == 'CASH_OUT')]\n",
    "Y = X['isFraud']\n",
    "X = X.drop(['nameOrig', 'nameDest', 'isFraud'], axis = 1)\n",
    "\n",
    "X.loc[X.type == 'TRANSFER', 'type'] = 0\n",
    "X.loc[X.type == 'CASH_OUT', 'type'] = 1\n",
    "X.type = X.type.astype(int)"
   ]
  },
  {
   "cell_type": "code",
   "execution_count": 21,
   "metadata": {
    "colab": {
     "base_uri": "https://localhost:8080/"
    },
    "id": "kyrLr1hZt56N",
    "outputId": "e681d2e6-bc0c-4d72-fc54-db8d813f9a08"
   },
   "outputs": [
    {
     "name": "stdout",
     "output_type": "stream",
     "text": [
      "<class 'pandas.core.frame.DataFrame'>\n",
      "Int64Index: 2765186 entries, 2 to 6351191\n",
      "Data columns (total 7 columns):\n",
      " #   Column          Dtype  \n",
      "---  ------          -----  \n",
      " 0   step            int64  \n",
      " 1   type            int32  \n",
      " 2   amount          float64\n",
      " 3   oldbalanceOrig  float64\n",
      " 4   newbalanceOrig  float64\n",
      " 5   oldbalanceDest  float64\n",
      " 6   newbalanceDest  float64\n",
      "dtypes: float64(5), int32(1), int64(1)\n",
      "memory usage: 158.2 MB\n"
     ]
    }
   ],
   "source": [
    "X.info()"
   ]
  },
  {
   "cell_type": "code",
   "execution_count": 22,
   "metadata": {
    "colab": {
     "base_uri": "https://localhost:8080/"
    },
    "id": "R870m9QouCuo",
    "outputId": "d18af1f7-1ac9-4e75-d607-cc96f3419d94"
   },
   "outputs": [
    {
     "name": "stdout",
     "output_type": "stream",
     "text": [
      "<class 'pandas.core.frame.DataFrame'>\n",
      "Int64Index: 2765186 entries, 2 to 6351191\n",
      "Data columns (total 1 columns):\n",
      " #   Column   Dtype\n",
      "---  ------   -----\n",
      " 0   isFraud  int64\n",
      "dtypes: int64(1)\n",
      "memory usage: 42.2 MB\n"
     ]
    }
   ],
   "source": [
    "(pd.DataFrame(Y)).info()"
   ]
  },
  {
   "cell_type": "markdown",
   "metadata": {
    "id": "ww7J1pMKv75I"
   },
   "source": [
    "## Balance "
   ]
  },
  {
   "cell_type": "code",
   "execution_count": 23,
   "metadata": {
    "colab": {
     "base_uri": "https://localhost:8080/"
    },
    "id": "Sm8jLTJrwzFn",
    "outputId": "67c3396e-c362-4d62-bc00-d27291651172"
   },
   "outputs": [
    {
     "data": {
      "text/plain": [
       "(7717, 7)"
      ]
     },
     "execution_count": 23,
     "metadata": {},
     "output_type": "execute_result"
    }
   ],
   "source": [
    "a = X.loc[Y == 1]\n",
    "a.shape"
   ]
  },
  {
   "cell_type": "code",
   "execution_count": 24,
   "metadata": {
    "colab": {
     "base_uri": "https://localhost:8080/"
    },
    "id": "Rn-4B80kxkQj",
    "outputId": "51c7fecc-f05b-4bc6-cf5e-4e6ab6222e9c"
   },
   "outputs": [
    {
     "data": {
      "text/plain": [
       "2              181.00\n",
       "3              181.00\n",
       "15          229133.94\n",
       "19          215310.30\n",
       "24          311685.89\n",
       "              ...    \n",
       "6351186      62372.43\n",
       "6351188     162326.52\n",
       "6351189     162326.52\n",
       "6351190    2763398.31\n",
       "6351191    2763398.31\n",
       "Name: amount, Length: 2765186, dtype: float64"
      ]
     },
     "execution_count": 24,
     "metadata": {},
     "output_type": "execute_result"
    }
   ],
   "source": [
    "X.amount"
   ]
  },
  {
   "cell_type": "code",
   "execution_count": 25,
   "metadata": {
    "colab": {
     "base_uri": "https://localhost:8080/"
    },
    "id": "FiXLoxbBuZdM",
    "outputId": "856b3657-9b70-46fc-c856-d3b091ca59cb"
   },
   "outputs": [
    {
     "data": {
      "text/plain": [
       "0.6507710250097188"
      ]
     },
     "execution_count": 25,
     "metadata": {},
     "output_type": "execute_result"
    }
   ],
   "source": [
    "len(a.loc[(a.oldbalanceDest == 0) & (a.oldbalanceDest == 0) ])/7717\n"
   ]
  },
  {
   "cell_type": "code",
   "execution_count": 26,
   "metadata": {
    "colab": {
     "base_uri": "https://localhost:8080/"
    },
    "id": "n38yaF1VzdCp",
    "outputId": "01013eae-23be-453c-e972-07d78aad9501"
   },
   "outputs": [
    {
     "data": {
      "text/plain": [
       "0.495918102889724"
      ]
     },
     "execution_count": 26,
     "metadata": {},
     "output_type": "execute_result"
    }
   ],
   "source": [
    "\n",
    "len(a.loc[(a.oldbalanceDest == 0) & (a.newbalanceDest == 0)])/7717"
   ]
  },
  {
   "cell_type": "code",
   "execution_count": 27,
   "metadata": {
    "id": "KUbh2kP33Dp0"
   },
   "outputs": [],
   "source": [
    "X.loc[(X.oldbalanceDest == 0) & (X.newbalanceDest == 0) & (X.amount != 0) , \\\n",
    "      ['oldbalanceDest', 'newbalanceDest']] = - 1"
   ]
  },
  {
   "cell_type": "markdown",
   "metadata": {
    "id": "o4EygyQMi4IA"
   },
   "source": []
  },
  {
   "cell_type": "code",
   "execution_count": 28,
   "metadata": {
    "id": "Ffo5bHpP49Ay"
   },
   "outputs": [],
   "source": [
    "X['difforig'] = X.newbalanceOrig + X.amount - X.oldbalanceOrig\n",
    "X['diffdest'] = X.oldbalanceDest + X.amount - X.newbalanceDest"
   ]
  },
  {
   "cell_type": "code",
   "execution_count": 29,
   "metadata": {
    "colab": {
     "base_uri": "https://localhost:8080/",
     "height": 414
    },
    "id": "63jo_pDW5FcD",
    "outputId": "e4f10af4-bf0e-43dd-8e76-57a7b8f33fb0"
   },
   "outputs": [
    {
     "data": {
      "text/html": [
       "<div>\n",
       "<style scoped>\n",
       "    .dataframe tbody tr th:only-of-type {\n",
       "        vertical-align: middle;\n",
       "    }\n",
       "\n",
       "    .dataframe tbody tr th {\n",
       "        vertical-align: top;\n",
       "    }\n",
       "\n",
       "    .dataframe thead th {\n",
       "        text-align: right;\n",
       "    }\n",
       "</style>\n",
       "<table border=\"1\" class=\"dataframe\">\n",
       "  <thead>\n",
       "    <tr style=\"text-align: right;\">\n",
       "      <th></th>\n",
       "      <th>step</th>\n",
       "      <th>type</th>\n",
       "      <th>amount</th>\n",
       "      <th>oldbalanceOrig</th>\n",
       "      <th>newbalanceOrig</th>\n",
       "      <th>oldbalanceDest</th>\n",
       "      <th>newbalanceDest</th>\n",
       "      <th>difforig</th>\n",
       "      <th>diffdest</th>\n",
       "    </tr>\n",
       "  </thead>\n",
       "  <tbody>\n",
       "    <tr>\n",
       "      <th>2</th>\n",
       "      <td>1</td>\n",
       "      <td>0</td>\n",
       "      <td>181.00</td>\n",
       "      <td>181.00</td>\n",
       "      <td>0.0</td>\n",
       "      <td>-1.00</td>\n",
       "      <td>-1.00</td>\n",
       "      <td>0.00</td>\n",
       "      <td>181.00</td>\n",
       "    </tr>\n",
       "    <tr>\n",
       "      <th>3</th>\n",
       "      <td>1</td>\n",
       "      <td>1</td>\n",
       "      <td>181.00</td>\n",
       "      <td>181.00</td>\n",
       "      <td>0.0</td>\n",
       "      <td>21182.00</td>\n",
       "      <td>0.00</td>\n",
       "      <td>0.00</td>\n",
       "      <td>21363.00</td>\n",
       "    </tr>\n",
       "    <tr>\n",
       "      <th>15</th>\n",
       "      <td>1</td>\n",
       "      <td>1</td>\n",
       "      <td>229133.94</td>\n",
       "      <td>15325.00</td>\n",
       "      <td>0.0</td>\n",
       "      <td>5083.00</td>\n",
       "      <td>51513.44</td>\n",
       "      <td>213808.94</td>\n",
       "      <td>182703.50</td>\n",
       "    </tr>\n",
       "    <tr>\n",
       "      <th>19</th>\n",
       "      <td>1</td>\n",
       "      <td>0</td>\n",
       "      <td>215310.30</td>\n",
       "      <td>705.00</td>\n",
       "      <td>0.0</td>\n",
       "      <td>22425.00</td>\n",
       "      <td>0.00</td>\n",
       "      <td>214605.30</td>\n",
       "      <td>237735.30</td>\n",
       "    </tr>\n",
       "    <tr>\n",
       "      <th>24</th>\n",
       "      <td>1</td>\n",
       "      <td>0</td>\n",
       "      <td>311685.89</td>\n",
       "      <td>10835.00</td>\n",
       "      <td>0.0</td>\n",
       "      <td>6267.00</td>\n",
       "      <td>2719172.89</td>\n",
       "      <td>300850.89</td>\n",
       "      <td>-2401220.00</td>\n",
       "    </tr>\n",
       "    <tr>\n",
       "      <th>...</th>\n",
       "      <td>...</td>\n",
       "      <td>...</td>\n",
       "      <td>...</td>\n",
       "      <td>...</td>\n",
       "      <td>...</td>\n",
       "      <td>...</td>\n",
       "      <td>...</td>\n",
       "      <td>...</td>\n",
       "      <td>...</td>\n",
       "    </tr>\n",
       "    <tr>\n",
       "      <th>6351186</th>\n",
       "      <td>699</td>\n",
       "      <td>1</td>\n",
       "      <td>62372.43</td>\n",
       "      <td>62372.43</td>\n",
       "      <td>0.0</td>\n",
       "      <td>1195387.47</td>\n",
       "      <td>1257759.90</td>\n",
       "      <td>0.00</td>\n",
       "      <td>0.00</td>\n",
       "    </tr>\n",
       "    <tr>\n",
       "      <th>6351188</th>\n",
       "      <td>699</td>\n",
       "      <td>0</td>\n",
       "      <td>162326.52</td>\n",
       "      <td>162326.52</td>\n",
       "      <td>0.0</td>\n",
       "      <td>-1.00</td>\n",
       "      <td>-1.00</td>\n",
       "      <td>0.00</td>\n",
       "      <td>162326.52</td>\n",
       "    </tr>\n",
       "    <tr>\n",
       "      <th>6351189</th>\n",
       "      <td>699</td>\n",
       "      <td>1</td>\n",
       "      <td>162326.52</td>\n",
       "      <td>162326.52</td>\n",
       "      <td>0.0</td>\n",
       "      <td>0.00</td>\n",
       "      <td>162326.52</td>\n",
       "      <td>0.00</td>\n",
       "      <td>0.00</td>\n",
       "    </tr>\n",
       "    <tr>\n",
       "      <th>6351190</th>\n",
       "      <td>699</td>\n",
       "      <td>0</td>\n",
       "      <td>2763398.31</td>\n",
       "      <td>2763398.31</td>\n",
       "      <td>0.0</td>\n",
       "      <td>-1.00</td>\n",
       "      <td>-1.00</td>\n",
       "      <td>0.00</td>\n",
       "      <td>2763398.31</td>\n",
       "    </tr>\n",
       "    <tr>\n",
       "      <th>6351191</th>\n",
       "      <td>699</td>\n",
       "      <td>1</td>\n",
       "      <td>2763398.31</td>\n",
       "      <td>2763398.31</td>\n",
       "      <td>0.0</td>\n",
       "      <td>339515.35</td>\n",
       "      <td>3102913.66</td>\n",
       "      <td>0.00</td>\n",
       "      <td>0.00</td>\n",
       "    </tr>\n",
       "  </tbody>\n",
       "</table>\n",
       "<p>2765186 rows × 9 columns</p>\n",
       "</div>"
      ],
      "text/plain": [
       "         step  type      amount  oldbalanceOrig  newbalanceOrig  \\\n",
       "2           1     0      181.00          181.00             0.0   \n",
       "3           1     1      181.00          181.00             0.0   \n",
       "15          1     1   229133.94        15325.00             0.0   \n",
       "19          1     0   215310.30          705.00             0.0   \n",
       "24          1     0   311685.89        10835.00             0.0   \n",
       "...       ...   ...         ...             ...             ...   \n",
       "6351186   699     1    62372.43        62372.43             0.0   \n",
       "6351188   699     0   162326.52       162326.52             0.0   \n",
       "6351189   699     1   162326.52       162326.52             0.0   \n",
       "6351190   699     0  2763398.31      2763398.31             0.0   \n",
       "6351191   699     1  2763398.31      2763398.31             0.0   \n",
       "\n",
       "         oldbalanceDest  newbalanceDest   difforig    diffdest  \n",
       "2                 -1.00           -1.00       0.00      181.00  \n",
       "3              21182.00            0.00       0.00    21363.00  \n",
       "15              5083.00        51513.44  213808.94   182703.50  \n",
       "19             22425.00            0.00  214605.30   237735.30  \n",
       "24              6267.00      2719172.89  300850.89 -2401220.00  \n",
       "...                 ...             ...        ...         ...  \n",
       "6351186      1195387.47      1257759.90       0.00        0.00  \n",
       "6351188           -1.00           -1.00       0.00   162326.52  \n",
       "6351189            0.00       162326.52       0.00        0.00  \n",
       "6351190           -1.00           -1.00       0.00  2763398.31  \n",
       "6351191       339515.35      3102913.66       0.00        0.00  \n",
       "\n",
       "[2765186 rows x 9 columns]"
      ]
     },
     "execution_count": 29,
     "metadata": {},
     "output_type": "execute_result"
    }
   ],
   "source": [
    "X"
   ]
  },
  {
   "cell_type": "code",
   "execution_count": 54,
   "metadata": {},
   "outputs": [
    {
     "data": {
      "text/plain": [
       "array([1.81000000e+02, 2.29133940e+05, 2.15310300e+05, ...,\n",
       "       1.25500530e+05, 2.15013300e+05, 2.76339831e+06])"
      ]
     },
     "execution_count": 54,
     "metadata": {},
     "output_type": "execute_result"
    }
   ],
   "source": [
    "X['amount'].unique()"
   ]
  },
  {
   "cell_type": "code",
   "execution_count": 30,
   "metadata": {
    "id": "N-LktuHSi2Q9"
   },
   "outputs": [],
   "source": [
    "X.dropna(axis=0 , how='any' ,inplace=True)"
   ]
  },
  {
   "cell_type": "markdown",
   "metadata": {
    "id": "5WDrFNEXfxlr"
   },
   "source": [
    "# Modeling "
   ]
  },
  {
   "cell_type": "code",
   "execution_count": 74,
   "metadata": {
    "id": "NMSdpKRAgWgd"
   },
   "outputs": [],
   "source": [
    "from sklearn.model_selection import train_test_split\n",
    "\n",
    "X_train,X_test,y_train,y_test=train_test_split(X,Y,test_size=0.2,random_state=42)"
   ]
  },
  {
   "cell_type": "code",
   "execution_count": 32,
   "metadata": {
    "id": "k_3pOsH6he1x"
   },
   "outputs": [],
   "source": [
    "from sklearn.preprocessing import StandardScaler\n",
    "\n",
    "\n",
    "scaler = StandardScaler()\n",
    "\n",
    "scaler.fit(X_train)\n",
    "\n",
    "X_train = scaler.transform(X_train)\n",
    "X_test = scaler.transform(X_test)"
   ]
  },
  {
   "cell_type": "code",
   "execution_count": 51,
   "metadata": {},
   "outputs": [
    {
     "data": {
      "text/plain": [
       "['model/scaler.pkl']"
      ]
     },
     "execution_count": 51,
     "metadata": {},
     "output_type": "execute_result"
    }
   ],
   "source": [
    "joblib.dump(scaler, 'model/scaler.pkl')"
   ]
  },
  {
   "cell_type": "code",
   "execution_count": 33,
   "metadata": {
    "id": "rVxIbLZFgaqv"
   },
   "outputs": [],
   "source": [
    "from sklearn.neural_network import MLPClassifier\n",
    "from sklearn.metrics import classification_report,confusion_matrix,accuracy_score, roc_curve, auc,\\\n",
    "precision_score"
   ]
  },
  {
   "cell_type": "code",
   "execution_count": 34,
   "metadata": {
    "colab": {
     "base_uri": "https://localhost:8080/"
    },
    "id": "lv8dS1auh-t1",
    "outputId": "47ddec9f-bd5f-4e9e-a18f-6104c42fa504"
   },
   "outputs": [
    {
     "name": "stdout",
     "output_type": "stream",
     "text": [
      "Iteration 1, loss = 0.01363667\n",
      "Iteration 2, loss = 0.00438272\n",
      "Iteration 3, loss = 0.00376010\n",
      "Iteration 4, loss = 0.00347825\n",
      "Iteration 5, loss = 0.00324325\n",
      "Iteration 6, loss = 0.00311791\n",
      "Iteration 7, loss = 0.00304242\n",
      "Iteration 8, loss = 0.00297119\n",
      "Iteration 9, loss = 0.00287420\n",
      "Iteration 10, loss = 0.00284725\n",
      "Iteration 11, loss = 0.00283320\n",
      "Iteration 12, loss = 0.00277655\n",
      "Iteration 13, loss = 0.00272578\n",
      "Iteration 14, loss = 0.00271229\n",
      "Iteration 15, loss = 0.00274336\n",
      "Iteration 16, loss = 0.00264947\n",
      "Iteration 17, loss = 0.00262979\n",
      "Training loss did not improve more than tol=0.000100 for 10 consecutive epochs. Stopping.\n"
     ]
    },
    {
     "data": {
      "text/plain": [
       "MLPClassifier(hidden_layer_sizes=(9, 9, 9), max_iter=1000, random_state=7,\n",
       "              verbose=True)"
      ]
     },
     "execution_count": 34,
     "metadata": {},
     "output_type": "execute_result"
    }
   ],
   "source": [
    "ncols = len(X.columns)\n",
    "hidden_layers = (ncols,ncols,ncols)\n",
    "max_iter = 1000\n",
    "MLP = MLPClassifier(hidden_layer_sizes=hidden_layers,max_iter=1000,random_state=7, verbose=True)\n",
    "\n",
    "MLP.fit(X_train,y_train)\n",
    "    "
   ]
  },
  {
   "cell_type": "code",
   "execution_count": 80,
   "metadata": {},
   "outputs": [],
   "source": [
    "prr = np.array( [[-1.71138145 , 0.48829646 , -0.35652285 , -0.19894806 , -0.11385874  ,-0.40421826 , -0.44419909  ,-0.325865 , 0.08492648]])"
   ]
  },
  {
   "cell_type": "code",
   "execution_count": 81,
   "metadata": {},
   "outputs": [
    {
     "data": {
      "text/plain": [
       "array([0], dtype=int64)"
      ]
     },
     "execution_count": 81,
     "metadata": {},
     "output_type": "execute_result"
    }
   ],
   "source": [
    "MLP.predict(prr)"
   ]
  },
  {
   "cell_type": "code",
   "execution_count": 35,
   "metadata": {
    "id": "pf_T0aZ0nX6g"
   },
   "outputs": [],
   "source": [
    "predictionsMLP = MLP.predict(X_test)\n",
    "CM_MLP = confusion_matrix(y_test,predictionsMLP)\n",
    "CR_MLP = classification_report(y_test,predictionsMLP)\n",
    "fprMLP, recallMLP, thresholdsMLP = roc_curve(y_test, predictionsMLP)\n",
    "AUC_MLP = auc(fprMLP, recallMLP)\n",
    "    \n",
    "resultsMLP = {\"Confusion Matrix\":CM_MLP,\"Classification Report\":CR_MLP,\"Area Under Curve\":AUC_MLP}"
   ]
  },
  {
   "cell_type": "code",
   "execution_count": 68,
   "metadata": {},
   "outputs": [
    {
     "data": {
      "text/plain": [
       "(array([    89,    257,    422, ..., 551540, 551828, 552187], dtype=int64),)"
      ]
     },
     "execution_count": 68,
     "metadata": {},
     "output_type": "execute_result"
    }
   ],
   "source": [
    "np.where(predictionsMLP==1)\n"
   ]
  },
  {
   "cell_type": "code",
   "execution_count": 70,
   "metadata": {},
   "outputs": [
    {
     "data": {
      "text/plain": [
       "array([-0.4354174 ,  0.48829646,  8.82425875, 34.40502749, -0.11385874,\n",
       "       -0.21787489,  1.50196601, -0.325865  ,  0.04898686])"
      ]
     },
     "execution_count": 70,
     "metadata": {},
     "output_type": "execute_result"
    }
   ],
   "source": [
    "X_test[89]"
   ]
  },
  {
   "cell_type": "code",
   "execution_count": 36,
   "metadata": {
    "colab": {
     "base_uri": "https://localhost:8080/"
    },
    "id": "7mrBB3JEkSZn",
    "outputId": "393a2f96-dcd4-4e4b-e277-dcbf31059d07"
   },
   "outputs": [
    {
     "name": "stdout",
     "output_type": "stream",
     "text": [
      "Confusion Matrix : \n",
      " [[551450     74]\n",
      " [   301   1213]]\n",
      "Classification Report : \n",
      "               precision    recall  f1-score   support\n",
      "\n",
      "           0       1.00      1.00      1.00    551524\n",
      "           1       0.94      0.80      0.87      1514\n",
      "\n",
      "    accuracy                           1.00    553038\n",
      "   macro avg       0.97      0.90      0.93    553038\n",
      "weighted avg       1.00      1.00      1.00    553038\n",
      "\n",
      "Area Under Curve : \n",
      " 0.9005273649476057\n"
     ]
    }
   ],
   "source": [
    "for i in resultsMLP:\n",
    "    print(i,\": \\n\",resultsMLP[i])"
   ]
  },
  {
   "cell_type": "markdown",
   "metadata": {},
   "source": [
    "## testing API "
   ]
  },
  {
   "cell_type": "code",
   "execution_count": 69,
   "metadata": {},
   "outputs": [],
   "source": [
    "import requests"
   ]
  },
  {
   "cell_type": "code",
   "execution_count": 71,
   "metadata": {},
   "outputs": [],
   "source": [
    "a = requests.get('http://127.0.0.1:5000/')"
   ]
  },
  {
   "cell_type": "code",
   "execution_count": 72,
   "metadata": {},
   "outputs": [
    {
     "data": {
      "text/plain": [
       "{'message': 'please check documentation to use this API'}"
      ]
     },
     "execution_count": 72,
     "metadata": {},
     "output_type": "execute_result"
    }
   ],
   "source": [
    "a.json()"
   ]
  },
  {
   "cell_type": "code",
   "execution_count": 73,
   "metadata": {},
   "outputs": [],
   "source": [
    "b = requests.post('https://plentinapi.herokuapp.com/' ,json = {\n",
    "\n",
    "        'step' :'ds' ,\n",
    "        'type' :'CASH_OUT' ,\n",
    "        'amount' :1 , \n",
    "        'oldbalanceOrig' :1 , \n",
    "        'newbalanceOrig' :1 , \n",
    "        'oldbalanceDest' :1 , \n",
    "        'newbalanceDest' :1 ,\n",
    "                                    \n",
    "})"
   ]
  },
  {
   "cell_type": "code",
   "execution_count": 74,
   "metadata": {},
   "outputs": [
    {
     "name": "stdout",
     "output_type": "stream",
     "text": [
      "<Response [422]>\n"
     ]
    }
   ],
   "source": [
    "print(b)"
   ]
  },
  {
   "cell_type": "code",
   "execution_count": null,
   "metadata": {},
   "outputs": [],
   "source": []
  }
 ],
 "metadata": {
  "colab": {
   "collapsed_sections": [
    "gnOvvbHBvfyt",
    "Rx0hAqULdOwF",
    "uteq4Lievvxl"
   ],
   "name": "Plentina.ipynb",
   "provenance": []
  },
  "kernelspec": {
   "display_name": "Python 3",
   "language": "python",
   "name": "python3"
  },
  "language_info": {
   "codemirror_mode": {
    "name": "ipython",
    "version": 3
   },
   "file_extension": ".py",
   "mimetype": "text/x-python",
   "name": "python",
   "nbconvert_exporter": "python",
   "pygments_lexer": "ipython3",
   "version": "3.8.8"
  }
 },
 "nbformat": 4,
 "nbformat_minor": 1
}
